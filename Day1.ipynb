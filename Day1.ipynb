{
 "cells": [
  {
   "cell_type": "markdown",
   "metadata": {},
   "source": [
    "# Task 1: Function that returns the Absolute value of the entered number"
   ]
  },
  {
   "cell_type": "markdown",
   "metadata": {},
   "source": [
    "# Solution Code:"
   ]
  },
  {
   "cell_type": "code",
   "execution_count": 1,
   "metadata": {},
   "outputs": [
    {
     "name": "stdout",
     "output_type": "stream",
     "text": [
      "Enter the Number: -5\n",
      "Absolute value of the entered number is:  5\n"
     ]
    }
   ],
   "source": [
    "Number = int(input(\"Enter the Number: \"))\n",
    "\n",
    "def absolute_value(num):\n",
    "    if num >= 0:\n",
    "        return num\n",
    "    else:\n",
    "        return -num\n",
    "\n",
    "print(\"Absolute value of the entered number is: \", absolute_value(Number))"
   ]
  },
  {
   "cell_type": "markdown",
   "metadata": {},
   "source": [
    "# Task 2:Function that returns the Sum of two numbers"
   ]
  },
  {
   "cell_type": "markdown",
   "metadata": {},
   "source": [
    "# Solution Code:"
   ]
  },
  {
   "cell_type": "code",
   "execution_count": 2,
   "metadata": {},
   "outputs": [
    {
     "name": "stdout",
     "output_type": "stream",
     "text": [
      "Enter the First Number: 25\n",
      "Enter the Second Number: 75\n",
      "Sum of two numbers:  100\n"
     ]
    }
   ],
   "source": [
    "Num1 = int(input(\"Enter the First Number: \"))\n",
    "Num2 = int(input(\"Enter the Second Number: \"))\n",
    "\n",
    "def sum(num1, num2):\n",
    "    return num1 + num2\n",
    "\n",
    "print(\"Sum of two numbers: \", sum(Num1, Num2))"
   ]
  },
  {
   "cell_type": "markdown",
   "metadata": {},
   "source": [
    "# Task 3:Program that returns the Squares of numbers in a range"
   ]
  },
  {
   "cell_type": "markdown",
   "metadata": {},
   "source": [
    "# Solution Code:"
   ]
  },
  {
   "cell_type": "code",
   "execution_count": 3,
   "metadata": {},
   "outputs": [
    {
     "name": "stdout",
     "output_type": "stream",
     "text": [
      "Enter the First Number: 4\n",
      "Enter the Second Number: 8\n",
      "16\n",
      "25\n",
      "36\n",
      "49\n",
      "64\n"
     ]
    }
   ],
   "source": [
    "Num1 = int(input(\"Enter the First Number: \"))\n",
    "Num2 = int(input(\"Enter the Second Number: \"))\n",
    "\n",
    "for i in range(Num1, Num2 + 1):\n",
    "    print(i**2)"
   ]
  },
  {
   "cell_type": "markdown",
   "metadata": {},
   "source": [
    "# Task 4: Program that returns the Sum of First N natural numbers "
   ]
  },
  {
   "cell_type": "markdown",
   "metadata": {},
   "source": [
    "# Solution Code:"
   ]
  },
  {
   "cell_type": "code",
   "execution_count": 4,
   "metadata": {},
   "outputs": [
    {
     "name": "stdout",
     "output_type": "stream",
     "text": [
      "Enter the Natural Number: 5\n",
      "Sum:  15\n"
     ]
    }
   ],
   "source": [
    "Num = int(input(\"Enter the Natural Number: \"))\n",
    "\n",
    "def sum_n(n):\n",
    "    result = 0\n",
    "    for i in range(1, n + 1):\n",
    "        result = result + i\n",
    "    return result\n",
    "\n",
    "print(\"Sum: \", sum_n(Num))"
   ]
  }
 ],
 "metadata": {
  "kernelspec": {
   "display_name": "Python 3",
   "language": "python",
   "name": "python3"
  },
  "language_info": {
   "codemirror_mode": {
    "name": "ipython",
    "version": 3
   },
   "file_extension": ".py",
   "mimetype": "text/x-python",
   "name": "python",
   "nbconvert_exporter": "python",
   "pygments_lexer": "ipython3",
   "version": "3.7.3"
  }
 },
 "nbformat": 4,
 "nbformat_minor": 2
}
