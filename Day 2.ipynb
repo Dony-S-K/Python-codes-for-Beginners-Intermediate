{
 "cells": [
  {
   "cell_type": "markdown",
   "metadata": {},
   "source": [
    "# Question 5: Program to check whether a number is Even or Odd"
   ]
  },
  {
   "cell_type": "markdown",
   "metadata": {},
   "source": [
    "# Solution Code:"
   ]
  },
  {
   "cell_type": "code",
   "execution_count": 5,
   "metadata": {},
   "outputs": [
    {
     "name": "stdout",
     "output_type": "stream",
     "text": [
      "Enter the Number: 1225\n",
      "1225 is Odd Number\n"
     ]
    }
   ],
   "source": [
    "Num = int(input(\"Enter the Number: \"))\n",
    "\n",
    "if Num % 2 == 0:\n",
    "    print(\"{0} is Even Number\".format(Num))\n",
    "else:\n",
    "    print(\"{0} is Odd Number\".format(Num))"
   ]
  },
  {
   "cell_type": "markdown",
   "metadata": {},
   "source": [
    "# Question 6: Program that returns the Sum and Average of First N natural numbers"
   ]
  },
  {
   "cell_type": "markdown",
   "metadata": {},
   "source": [
    "# Solution Code:"
   ]
  },
  {
   "cell_type": "code",
   "execution_count": 1,
   "metadata": {},
   "outputs": [
    {
     "name": "stdout",
     "output_type": "stream",
     "text": [
      "Enter the Natural Number: 10\n",
      "Sum of First 10 Natural number is: 55\n",
      "Average of First 10 Natural number is:  5.5\n"
     ]
    }
   ],
   "source": [
    "#Using For loop\n",
    "Num = int(input(\"Enter the Natural Number: \"))\n",
    "\n",
    "def sum_n(n):\n",
    "    sum = 0\n",
    "    for i in range(1, n + 1):\n",
    "        sum = sum + i\n",
    "    return sum \n",
    "\n",
    "Sum = sum_n(Num)\n",
    "avr = Sum/Num  \n",
    "\n",
    "print(\"Sum of First\", Num,\"Natural number is:\", sum_n(Num))\n",
    "\n",
    "print(\"Average of First\", Num,\"Natural number is: \", avr)"
   ]
  },
  {
   "cell_type": "code",
   "execution_count": 3,
   "metadata": {},
   "outputs": [
    {
     "name": "stdout",
     "output_type": "stream",
     "text": [
      "Enter the Natural Number: 5\n",
      "Sum of First 5 Natural number is: 15\n",
      "Average of First 5 Natural number is:  3.0\n"
     ]
    }
   ],
   "source": [
    "#Using While loop\n",
    "\n",
    "Num = int(input(\"Enter the Natural Number: \"))\n",
    "\n",
    "def sum_n(n):\n",
    "    sum = 0\n",
    "    i = 1\n",
    "    while i < n+1:\n",
    "        sum = sum + i\n",
    "        i = i + 1\n",
    "    return sum \n",
    "\n",
    "Sum = sum_n(Num)\n",
    "avr = Sum/Num  \n",
    "\n",
    "print(\"Sum of First\", Num,\"Natural number is:\", sum_n(Num))\n",
    "\n",
    "print(\"Average of First\", Num,\"Natural number is: \", avr)"
   ]
  },
  {
   "cell_type": "code",
   "execution_count": null,
   "metadata": {},
   "outputs": [],
   "source": []
  }
 ],
 "metadata": {
  "kernelspec": {
   "display_name": "Python 3",
   "language": "python",
   "name": "python3"
  },
  "language_info": {
   "codemirror_mode": {
    "name": "ipython",
    "version": 3
   },
   "file_extension": ".py",
   "mimetype": "text/x-python",
   "name": "python",
   "nbconvert_exporter": "python",
   "pygments_lexer": "ipython3",
   "version": "3.7.3"
  }
 },
 "nbformat": 4,
 "nbformat_minor": 2
}
