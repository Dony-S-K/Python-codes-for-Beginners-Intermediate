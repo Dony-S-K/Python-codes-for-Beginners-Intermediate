{
 "cells": [
  {
   "cell_type": "markdown",
   "metadata": {},
   "source": [
    "# Question 8: Program to Find Factorial of a number"
   ]
  },
  {
   "cell_type": "markdown",
   "metadata": {},
   "source": [
    "# Solution Code:"
   ]
  },
  {
   "cell_type": "code",
   "execution_count": 5,
   "metadata": {},
   "outputs": [
    {
     "name": "stdout",
     "output_type": "stream",
     "text": [
      "Enter the Number: 0\n",
      "Factorial is 1\n"
     ]
    }
   ],
   "source": [
    "Num = int(input(\"Enter the Number: \"))\n",
    "\n",
    "Factorial = 1\n",
    "if Num<0:\n",
    "    print(\"Sorry invalid number\")\n",
    "elif Num==0:\n",
    "    print(\"Factorial is 1\")\n",
    "else:\n",
    "    for i in range(1, Num+1):\n",
    "        Factorial = Factorial*i\n",
    "    print(\"Factorial of\", Num, \"is:\", Factorial)\n",
    "        "
   ]
  }
 ],
 "metadata": {
  "kernelspec": {
   "display_name": "Python 3",
   "language": "python",
   "name": "python3"
  },
  "language_info": {
   "codemirror_mode": {
    "name": "ipython",
    "version": 3
   },
   "file_extension": ".py",
   "mimetype": "text/x-python",
   "name": "python",
   "nbconvert_exporter": "python",
   "pygments_lexer": "ipython3",
   "version": "3.7.3"
  }
 },
 "nbformat": 4,
 "nbformat_minor": 2
}
