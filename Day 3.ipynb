{
 "cells": [
  {
   "cell_type": "markdown",
   "metadata": {},
   "source": [
    "# Question 8: Program to Find Factorial of a number"
   ]
  },
  {
   "cell_type": "markdown",
   "metadata": {},
   "source": [
    "# Solution Code:"
   ]
  },
  {
   "cell_type": "code",
   "execution_count": 5,
   "metadata": {},
   "outputs": [
    {
     "name": "stdout",
     "output_type": "stream",
     "text": [
      "Enter the Number: 0\n",
      "Factorial is 1\n"
     ]
    }
   ],
   "source": [
    "Num = int(input(\"Enter the Number: \"))\n",
    "\n",
    "Factorial = 1\n",
    "if Num<0:\n",
    "    print(\"Sorry invalid number\")\n",
    "elif Num==0:\n",
    "    print(\"Factorial is 1\")\n",
    "else:\n",
    "    for i in range(1, Num+1):\n",
    "        Factorial = Factorial*i\n",
    "    print(\"Factorial of\", Num, \"is:\", Factorial)\n",
    "        "
   ]
  },
  {
   "cell_type": "markdown",
   "metadata": {},
   "source": [
    "# Question 9: Program to check whether a number is positive, negative or zero"
   ]
  },
  {
   "cell_type": "markdown",
   "metadata": {},
   "source": [
    "# Solution Code:"
   ]
  },
  {
   "cell_type": "code",
   "execution_count": 4,
   "metadata": {},
   "outputs": [
    {
     "name": "stdout",
     "output_type": "stream",
     "text": [
      "Enter the number -3\n",
      "-3 is Negative Number\n"
     ]
    }
   ],
   "source": [
    "num = int(input(\"Enter the number \"))\n",
    "if num > 0:\n",
    "    print(num, \"is Positive Number\")\n",
    "elif num == 0:\n",
    "    print(num, \"is Zero\")\n",
    "else:\n",
    "    print(num, \"is Negative Number\")"
   ]
  },
  {
   "cell_type": "code",
   "execution_count": 5,
   "metadata": {},
   "outputs": [
    {
     "name": "stdout",
     "output_type": "stream",
     "text": [
      "Enter the number -3\n",
      "-3 is Negative Number\n"
     ]
    }
   ],
   "source": [
    "#Alternate Approach\n",
    "#Nested if else\n",
    "num = int(input(\"Enter the number \"))\n",
    "if num>=0:\n",
    "    if num==0:\n",
    "        print(num, \"is Zero\")\n",
    "    else:\n",
    "        print(num, \"is Positive Number\")\n",
    "else:\n",
    "    print(num, \"is Negative Number\")"
   ]
  },
  {
   "cell_type": "markdown",
   "metadata": {},
   "source": [
    "# Question 10: Program to Find the factors of a number"
   ]
  },
  {
   "cell_type": "markdown",
   "metadata": {},
   "source": [
    "# Solution Code:"
   ]
  },
  {
   "cell_type": "code",
   "execution_count": 9,
   "metadata": {
    "scrolled": true
   },
   "outputs": [
    {
     "name": "stdout",
     "output_type": "stream",
     "text": [
      "Enter the number 20\n",
      "2\n",
      "4\n",
      "5\n",
      "10\n"
     ]
    }
   ],
   "source": [
    "num = int(input(\"Enter the number \"))\n",
    "if num==1:\n",
    "    print(num,\"is a prime number\")\n",
    "else:\n",
    "    for i in range(2, num):\n",
    "        if num%i==0:\n",
    "            print(i)"
   ]
  },
  {
   "cell_type": "code",
   "execution_count": 13,
   "metadata": {},
   "outputs": [
    {
     "name": "stdout",
     "output_type": "stream",
     "text": [
      "Enter the number 5\n",
      "Factors of 5 are:\n",
      "None\n"
     ]
    }
   ],
   "source": [
    "#alternate Method\n",
    "a = int(input(\"Enter the number \"))\n",
    "def factor(num):\n",
    "    print(\"Factors of\",a, \"are:\")\n",
    "    for i in range(2, num):\n",
    "        if num%i ==0:\n",
    "            print(i)\n",
    "print(factor(a))"
   ]
  }
 ],
 "metadata": {
  "kernelspec": {
   "display_name": "Python 3",
   "language": "python",
   "name": "python3"
  },
  "language_info": {
   "codemirror_mode": {
    "name": "ipython",
    "version": 3
   },
   "file_extension": ".py",
   "mimetype": "text/x-python",
   "name": "python",
   "nbconvert_exporter": "python",
   "pygments_lexer": "ipython3",
   "version": "3.7.3"
  }
 },
 "nbformat": 4,
 "nbformat_minor": 2
}
